{
 "cells": [
  {
   "cell_type": "code",
   "execution_count": null,
   "id": "2e728680",
   "metadata": {},
   "outputs": [],
   "source": [
    "import pandas as pd\n",
    "from datetime import datetime, timedelta\n",
    "import re\n",
    "import preprocessor as p\n",
    "from ekphrasis.classes.segmenter import Segmenter"
   ]
  },
  {
   "cell_type": "code",
   "execution_count": null,
   "id": "46919ac5",
   "metadata": {},
   "outputs": [],
   "source": [
    "dt = pd.read_csv('./loc_data.csv')"
   ]
  },
  {
   "cell_type": "code",
   "execution_count": null,
   "id": "ae9f6349",
   "metadata": {},
   "outputs": [],
   "source": [
    "def date_f(date_string):\n",
    "    \n",
    "    # Extract time and offset from the date string\n",
    "    date_time = datetime.strptime(date_string, \"%Y-%m-%d %H:%M:%S%z\")\n",
    "    time = date_time.time()\n",
    "    offset = date_time.utcoffset()\n",
    "    \n",
    "    # Adjust the time based on the offset\n",
    "    adjusted_time = (datetime.combine(datetime.min, time) - offset).time()\n",
    "    return adjusted_time\n",
    "\n",
    "dt[\"Date Created\"] = dt[\"Date Created\"].apply(lambda x: date_f(x))\n"
   ]
  },
  {
   "cell_type": "code",
   "execution_count": null,
   "id": "f3e9b952",
   "metadata": {},
   "outputs": [],
   "source": [
    "dt['Hashtags'] = dt[\"Tweet\"].apply(lambda x: re.findall(r\"#(\\w+)\", x))\n",
    "\n",
    "# segmenter using the word statistics from Twitter\n",
    "seg_tw = Segmenter(corpus=\"twitter\")\n",
    "a = []\n",
    "for i in range(len(dt)):\n",
    " if dt['Hashtags'][i] != a:\n",
    "  listToStr1 = ' '.join([str(elem) for elem in dt['Hashtags'][i]])\n",
    "  dt.loc[i,'Segmented'] = seg_tw.segment(listToStr1)"
   ]
  },
  {
   "cell_type": "code",
   "execution_count": null,
   "id": "d096a0f2",
   "metadata": {},
   "outputs": [],
   "source": [
    "for i, row in dt.iterrows():\n",
    "    cleaned_tweet = p.clean(row['Tweet'])\n",
    "    dt.at[i, 'Tweet'] = cleaned_tweet"
   ]
  },
  {
   "cell_type": "code",
   "execution_count": null,
   "id": "f79cd64f",
   "metadata": {},
   "outputs": [],
   "source": [
    "dt.to_csv('datafinal.csv', sep=',', index=False)"
   ]
  },
  {
   "cell_type": "code",
   "execution_count": null,
   "id": "8ef94b67",
   "metadata": {},
   "outputs": [],
   "source": []
  }
 ],
 "metadata": {
  "kernelspec": {
   "display_name": "Python 3 (ipykernel)",
   "language": "python",
   "name": "python3"
  },
  "language_info": {
   "codemirror_mode": {
    "name": "ipython",
    "version": 3
   },
   "file_extension": ".py",
   "mimetype": "text/x-python",
   "name": "python",
   "nbconvert_exporter": "python",
   "pygments_lexer": "ipython3",
   "version": "3.9.7"
  }
 },
 "nbformat": 4,
 "nbformat_minor": 5
}
