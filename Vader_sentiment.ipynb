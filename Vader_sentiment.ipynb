{
 "cells": [
  {
   "cell_type": "code",
   "execution_count": null,
   "id": "6f76696d",
   "metadata": {},
   "outputs": [],
   "source": [
    "import pandas as pd\n",
    "from openpyxl.workbook import Workbook\n",
    "from vaderSentiment.vaderSentiment import SentimentIntensityAnalyzer\n",
    "import re\n",
    "\n",
    "# def preprocess_tweet(tweet):\n",
    "#     processed_tweet = re.sub(r'[^a-zA-Z0-9\\s]', '', tweet)\n",
    "#     processed_tweet = re.sub(r'\\s+', ' ', processed_tweet)\n",
    "#     return processed_tweet\n",
    "\n",
    "def sentiment_scores(sentence):\n",
    "\n",
    "    sid_obj = SentimentIntensityAnalyzer()\n",
    "    sentiment_dict = sid_obj.polarity_scores(sentence)\n",
    "     \n",
    "    return sentiment_dict['compound']\n",
    " \n",
    "   \n",
    "if __name__ == \"__main__\" :\n",
    " \n",
    "    start_row = 0\n",
    "    end_row = 9999\n",
    "\n",
    "    data = pd.read_csv(\"C:/Users/DRAGON/Desktop/COLLEGE CODING/SEM 6/ML LAB/PROJECT/DEPRESSION/LABEL/datafinalm.csv\", skiprows=range(1, start_row), nrows=end_row - start_row + 1)\n",
    "    # data = pd.read_csv(\"C:/Users/DRAGON/Desktop/COLLEGE CODING/SEM 6/ML LAB/PROJECT/DEPRESSION/LABEL/datafinalm.csv\", nrows=2)\n",
    "\n",
    "\n",
    "    new_data = data.copy()\n",
    "\n",
    "    # data[\"Tweet\"] = data[\"Tweet\"].apply(preprocess_tweet)\n",
    "\n",
    "    new_data['Sentiment'] = data[\"Tweet\"].apply(lambda x: sentiment_scores(x))\n",
    "\n",
    "\n",
    "    data_selected = data[[\"User\", \"Time\", \"Language\", \"Tweet ID\", \"Tweet\", \"location\", \"Hashtags\", \"Segmented\"]]\n",
    "\n",
    "    # Concatenating the 'data_selected' dataframe with 'new_data'\n",
    "    merged = pd.concat([data_selected, new_data[\"Sentiment\"]], axis=1)\n",
    "\n",
    "    # Exporting the merged dataframe to an Excel file\n",
    "    merged.to_excel('New folder/10kmerged_output.xlsx', index=False)\n"
   ]
  }
 ],
 "metadata": {
  "kernelspec": {
   "display_name": "Python 3 (ipykernel)",
   "language": "python",
   "name": "python3"
  },
  "language_info": {
   "codemirror_mode": {
    "name": "ipython",
    "version": 3
   },
   "file_extension": ".py",
   "mimetype": "text/x-python",
   "name": "python",
   "nbconvert_exporter": "python",
   "pygments_lexer": "ipython3",
   "version": "3.9.7"
  }
 },
 "nbformat": 4,
 "nbformat_minor": 5
}
