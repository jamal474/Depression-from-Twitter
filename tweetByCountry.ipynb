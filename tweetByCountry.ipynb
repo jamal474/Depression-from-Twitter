{
 "cells": [
  {
   "cell_type": "code",
   "execution_count": null,
   "id": "a36f5557",
   "metadata": {},
   "outputs": [],
   "source": [
    "import snscrape.modules.twitter as sntwitter\n",
    "import os\n",
    "from datetime import datetime, timedelta\n",
    "\n",
    "# enter country name\n",
    "nation = \"india\""
   ]
  },
  {
   "cell_type": "code",
   "execution_count": null,
   "id": "03a5aedb",
   "metadata": {},
   "outputs": [],
   "source": [
    "import pandas as pd\n",
    "from stop_words import get_stop_words\n",
    "from nltk.tokenize import word_tokenize\n",
    "\n",
    "# Load stopwords\n",
    "stop_words = get_stop_words('english')\n",
    "\n",
    "# Function to tokenize and remove stopwords\n",
    "def tokenize_and_remove_stopwords(text):\n",
    "    tokens = word_tokenize(text)  # Tokenize the text\n",
    "    filtered_tokens = [token for token in tokens if token.lower() not in stop_words]  # Remove stopwords\n",
    "    return filtered_tokens"
   ]
  },
  {
   "cell_type": "code",
   "execution_count": null,
   "id": "76dc25ec",
   "metadata": {},
   "outputs": [],
   "source": [
    "def find_country_in_text(text, df,df1):\n",
    "    for word in text:\n",
    "        wd = word.lower()\n",
    "        v = df1.iloc[1:,1].searchsorted(wd)\n",
    "        if(v == 44690):\n",
    "            continue\n",
    "        if wd == df1.iloc[v+1,1]:\n",
    "            return wd\n",
    "    for word in text:\n",
    "        wd = word.lower()\n",
    "        v = df.iloc[1:,0].searchsorted(wd)\n",
    "        if(v == 44690):\n",
    "            continue\n",
    "        if wd == df.iloc[v+1,0]:\n",
    "            return df.iloc[v+1,1]\n",
    "    return \"none\"\n",
    "\n",
    "# Example usage\n",
    "df = pd.read_csv(\"./../worldcities.csv\",usecols = [1,4])\n",
    "df.sort_values(\"city_ascii\", inplace=True)\n",
    "df = df.reset_index(drop=True)\n",
    "df[\"city_ascii\"] = df[\"city_ascii\"].apply(lambda x: x.lower())\n",
    "df[\"country\"] = df[\"country\"].apply(lambda x: x.lower())\n",
    "\n",
    "df1 = pd.read_csv(\"./../worldcities.csv\",usecols = [1,4])\n",
    "df1.sort_values(\"country\", inplace=True)\n",
    "df1 = df1.reset_index(drop=True)\n",
    "df1[\"city_ascii\"] = df1[\"city_ascii\"].apply(lambda x: x.lower())\n",
    "df1[\"country\"] = df1[\"country\"].apply(lambda x: x.lower())"
   ]
  },
  {
   "cell_type": "code",
   "execution_count": null,
   "id": "69c7edf7",
   "metadata": {},
   "outputs": [],
   "source": [
    "attributes_container = []\n",
    "\n",
    "keyword = [\"sadness\",\"loneliness\",\"Despair\",\"Anguish\", \"Grief\",\"Anxiety\",\"Stress\",\"Depression\",\"Isolation\",\"Helplessness\",\"happiness\",\"joy\",\"love\",\"gratitude\", \"hope\",\"success\",\"motivation\",\"inspiration\",\"excitement\",\"optimism\"]\n",
    "\n",
    "tweet_df = pd.DataFrame(attributes_container,columns=[\"User\", \"Date Created\",\"Language\", \"Tweet ID\", \"Tweet\", \"location\"])\n",
    "for keys in keyword:\n",
    "    attributes_container = []\n",
    "    query = \"{} lang:en\".format(keys)\n",
    "    i = 0\n",
    "    for b,tweet in enumerate(sntwitter.TwitterSearchScraper(query).get_items()):\n",
    "        tt = tokenize_and_remove_stopwords(tweet.user.location)\n",
    "        t = find_country_in_text(tt, df,df1)\n",
    "        if(t == nation):\n",
    "            if i>=5000:\n",
    "                i = 0\n",
    "                break\n",
    "            attributes_container.append([tweet.user.username, tweet.date,tweet.lang, tweet.id,tweet.rawContent, t])\n",
    "            i = i + 1\n",
    "    \n",
    "    tweets_df = pd.DataFrame(attributes_container, columns=[\"User\", \"Date Created\",\"Language\", \"Tweet ID\", \"Tweet\", \"location\"])\n",
    "    tweet_df = pd.concat([tweet_df, tweets_df])"
   ]
  },
  {
   "cell_type": "code",
   "execution_count": null,
   "id": "a10494f7",
   "metadata": {},
   "outputs": [],
   "source": [
    "print(tweet_df[\"Tweet ID\"].size)"
   ]
  },
  {
   "cell_type": "code",
   "execution_count": null,
   "id": "f2f7a180",
   "metadata": {},
   "outputs": [],
   "source": []
  }
 ],
 "metadata": {
  "kernelspec": {
   "display_name": "Python 3 (ipykernel)",
   "language": "python",
   "name": "python3"
  },
  "language_info": {
   "codemirror_mode": {
    "name": "ipython",
    "version": 3
   },
   "file_extension": ".py",
   "mimetype": "text/x-python",
   "name": "python",
   "nbconvert_exporter": "python",
   "pygments_lexer": "ipython3",
   "version": "3.9.7"
  }
 },
 "nbformat": 4,
 "nbformat_minor": 5
}
