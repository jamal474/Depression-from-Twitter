{
 "cells": [
  {
   "cell_type": "code",
   "execution_count": null,
   "id": "76cbe3d3",
   "metadata": {},
   "outputs": [],
   "source": [
    "import snscrape.modules.twitter as sntwitter\n",
    "import pandas as pd\n",
    "import os\n",
    "from datetime import datetime, timedelta"
   ]
  },
  {
   "cell_type": "code",
   "execution_count": null,
   "id": "eb4537b7",
   "metadata": {},
   "outputs": [],
   "source": [
    "attributes_container = []\n",
    "\n",
    "keyword = [\"happiness\",\"joy\",\"love\",\"gratitude\", \"hope\",\"success\",\"motivation\",\"inspiration\",\"excitement\",\"optimism\"]\n",
    "\n",
    "tweet_df = pd.DataFrame(attributes_container,columns=[\"User\", \"Date Created\",\"Language\", \"Tweet ID\", \"Tweet\",\"location\"])\n",
    "for keys in keyword:\n",
    "    attributes_container = []\n",
    "    query = \"{} lang:en\".format(keys)\n",
    "    for i,tweet in enumerate(sntwitter.TwitterSearchScraper(query).get_items()):\n",
    "        if i>=10000:\n",
    "            break\n",
    "        attributes_container.append([tweet.user.username, tweet.date,tweet.lang, tweet.id,tweet.rawContent, tweet.user.location])\n",
    "    \n",
    "    tweets_df = pd.DataFrame(attributes_container, columns=[\"User\", \"Date Created\",\"Language\", \"Tweet ID\", \"Tweet\",\"location\"])\n",
    "    print(\"Size current : \",tweets_df.size)\n",
    "    tweet_df = pd.concat([tweet_df, tweets_df])\n",
    "    print(\"Size concat : \",tweet_df.size)"
   ]
  },
  {
   "cell_type": "code",
   "execution_count": null,
   "id": "85307e80",
   "metadata": {},
   "outputs": [],
   "source": [
    "file_path = './NewDataSet0.csv'  # Replace with the actual file path\n",
    "if os.path.exists(file_path):\n",
    "    old_data = pd.read_csv(\"NewDataSet0.csv\")\n",
    "    old_data = pd.concat([old_data, tweet_df])\n",
    "    old_data.to_csv('NewDataSet0.csv', sep=',', index=False)\n",
    "else:\n",
    "    tweet_df.to_csv('NewDataSet0.csv', sep=',', index=False)\n"
   ]
  },
  {
   "cell_type": "code",
   "execution_count": null,
   "id": "3baaa103",
   "metadata": {},
   "outputs": [],
   "source": []
  }
 ],
 "metadata": {
  "kernelspec": {
   "display_name": "Python 3 (ipykernel)",
   "language": "python",
   "name": "python3"
  },
  "language_info": {
   "codemirror_mode": {
    "name": "ipython",
    "version": 3
   },
   "file_extension": ".py",
   "mimetype": "text/x-python",
   "name": "python",
   "nbconvert_exporter": "python",
   "pygments_lexer": "ipython3",
   "version": "3.9.7"
  }
 },
 "nbformat": 4,
 "nbformat_minor": 5
}
