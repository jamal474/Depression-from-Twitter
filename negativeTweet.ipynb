{
 "cells": [
  {
   "cell_type": "code",
   "execution_count": null,
   "id": "de5b52b2",
   "metadata": {},
   "outputs": [],
   "source": [
    "import snscrape.modules.twitter as sntwitter\n",
    "import pandas as pd\n",
    "import os\n",
    "from datetime import datetime, timedelta"
   ]
  },
  {
   "cell_type": "code",
   "execution_count": null,
   "id": "8ee206c5",
   "metadata": {},
   "outputs": [],
   "source": [
    "attributes_container = []\n",
    "\n",
    "keyword = [\"sadness\",\"loneliness\",\"Despair\",\"Anguish\", \"Grief\",\"Anxiety\",\"Stress\",\"Depression\",\"Isolation\",\"Helplessness\"]\n",
    "\n",
    "tweet_df = pd.DataFrame(attributes_container,columns=[\"User\", \"Date Created\",\"Language\", \"Tweet ID\", \"Tweet\",\"location\"])\n",
    "for keys in keyword:\n",
    "    attributes_container = []\n",
    "    query = \"{} lang:en\".format(keys)\n",
    "    for i,tweet in enumerate(sntwitter.TwitterSearchScraper(query).get_items()):\n",
    "        if i>=10000:\n",
    "            break\n",
    "            \n",
    "        attributes_container.append([tweet.user.username, tweet.date,tweet.lang, tweet.id,tweet.rawContent, tweet.user.location])\n",
    "    \n",
    "    tweets_df = pd.DataFrame(attributes_container, columns=[\"User\", \"Date Created\",\"Language\", \"Tweet ID\", \"Tweet\",\"location\"])\n",
    "    print(\"Size current : \",tweets_df.size)\n",
    "    tweet_df = pd.concat([tweet_df, tweets_df])\n",
    "    print(\"Size concat : \",tweet_df.size)"
   ]
  },
  {
   "cell_type": "code",
   "execution_count": null,
   "id": "1eec1ab0",
   "metadata": {},
   "outputs": [],
   "source": [
    "print(\"Row : \",tweet_df[\"Tweet ID\"].size)\n",
    "print(\"Unique : \",(tweet_df[\"Tweet ID\"].unique()).size)"
   ]
  },
  {
   "cell_type": "code",
   "execution_count": null,
   "id": "8a9da063",
   "metadata": {},
   "outputs": [],
   "source": [
    "file_path = './NewDataSet.csv'  # Replace with the actual file path\n",
    "if os.path.exists(file_path):\n",
    "    old_data = pd.read_csv(\"NewDataSet.csv\")\n",
    "    old_data = pd.concat([old_data, tweet_df])\n",
    "    old_data.to_csv('NewDataSet.csv', sep=',', index=False)\n",
    "else:\n",
    "    tweet_df.to_csv('NewDataSet.csv', sep=',', index=False)\n"
   ]
  },
  {
   "cell_type": "code",
   "execution_count": null,
   "id": "d39eb8fd",
   "metadata": {},
   "outputs": [],
   "source": []
  }
 ],
 "metadata": {
  "kernelspec": {
   "display_name": "Python 3 (ipykernel)",
   "language": "python",
   "name": "python3"
  },
  "language_info": {
   "codemirror_mode": {
    "name": "ipython",
    "version": 3
   },
   "file_extension": ".py",
   "mimetype": "text/x-python",
   "name": "python",
   "nbconvert_exporter": "python",
   "pygments_lexer": "ipython3",
   "version": "3.9.7"
  }
 },
 "nbformat": 4,
 "nbformat_minor": 5
}
